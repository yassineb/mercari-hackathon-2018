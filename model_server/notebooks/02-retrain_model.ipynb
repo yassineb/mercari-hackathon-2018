{
 "cells": [
  {
   "cell_type": "code",
   "execution_count": 1,
   "metadata": {},
   "outputs": [
    {
     "name": "stderr",
     "output_type": "stream",
     "text": [
      "Using TensorFlow backend.\n"
     ]
    }
   ],
   "source": [
    "from keras import applications\n",
    "from keras.preprocessing.image import ImageDataGenerator\n",
    "from keras import optimizers\n",
    "from keras.models import Sequential\n",
    "from keras.layers import Dropout, Flatten, Dense\n",
    "from keras import Model\n",
    "\n",
    "from keras.applications.resnet50 import ResNet50\n"
   ]
  },
  {
   "cell_type": "code",
   "execution_count": 2,
   "metadata": {},
   "outputs": [],
   "source": [
    "\n",
    "# path to the model weights files.\n",
    "weights_path = '../keras/examples/vgg16_weights.h5'\n",
    "top_model_weights_path = 'fc_model.h5'\n",
    "# dimensions of our images.\n",
    "img_width, img_height = 150, 150\n",
    "\n",
    "train_data_dir = 'category_dataset/'\n",
    "nb_train_samples = 2000\n",
    "nb_validation_samples = 800\n",
    "epochs = 1\n",
    "batch_size = 16\n"
   ]
  },
  {
   "cell_type": "code",
   "execution_count": 3,
   "metadata": {},
   "outputs": [],
   "source": [
    "# Generate a model with all layers (with top)\n",
    "vgg16 = applications.VGG16(weights='imagenet', include_top=False, input_shape = (img_width, img_height,3))\n",
    "\n",
    "#Add a layer where input is the output of the  second last layer \n",
    "x = Flatten()(vgg16.layers[-1].output)\n",
    "x = Dense(3, activation='softmax', name='predictions')(x)\n",
    "\n",
    "#Then create the corresponding model \n",
    "model = Model(inputs=vgg16.input, outputs=x)\n",
    "# set the first 25 layers (up to the last conv block)\n",
    "# to non-trainable (weights will not be updated)\n",
    "for layer in model.layers[:18]:\n",
    "    layer.trainable = False\n"
   ]
  },
  {
   "cell_type": "code",
   "execution_count": 4,
   "metadata": {},
   "outputs": [
    {
     "name": "stdout",
     "output_type": "stream",
     "text": [
      "_________________________________________________________________\n",
      "Layer (type)                 Output Shape              Param #   \n",
      "=================================================================\n",
      "input_1 (InputLayer)         (None, 150, 150, 3)       0         \n",
      "_________________________________________________________________\n",
      "block1_conv1 (Conv2D)        (None, 150, 150, 64)      1792      \n",
      "_________________________________________________________________\n",
      "block1_conv2 (Conv2D)        (None, 150, 150, 64)      36928     \n",
      "_________________________________________________________________\n",
      "block1_pool (MaxPooling2D)   (None, 75, 75, 64)        0         \n",
      "_________________________________________________________________\n",
      "block2_conv1 (Conv2D)        (None, 75, 75, 128)       73856     \n",
      "_________________________________________________________________\n",
      "block2_conv2 (Conv2D)        (None, 75, 75, 128)       147584    \n",
      "_________________________________________________________________\n",
      "block2_pool (MaxPooling2D)   (None, 37, 37, 128)       0         \n",
      "_________________________________________________________________\n",
      "block3_conv1 (Conv2D)        (None, 37, 37, 256)       295168    \n",
      "_________________________________________________________________\n",
      "block3_conv2 (Conv2D)        (None, 37, 37, 256)       590080    \n",
      "_________________________________________________________________\n",
      "block3_conv3 (Conv2D)        (None, 37, 37, 256)       590080    \n",
      "_________________________________________________________________\n",
      "block3_pool (MaxPooling2D)   (None, 18, 18, 256)       0         \n",
      "_________________________________________________________________\n",
      "block4_conv1 (Conv2D)        (None, 18, 18, 512)       1180160   \n",
      "_________________________________________________________________\n",
      "block4_conv2 (Conv2D)        (None, 18, 18, 512)       2359808   \n",
      "_________________________________________________________________\n",
      "block4_conv3 (Conv2D)        (None, 18, 18, 512)       2359808   \n",
      "_________________________________________________________________\n",
      "block4_pool (MaxPooling2D)   (None, 9, 9, 512)         0         \n",
      "_________________________________________________________________\n",
      "block5_conv1 (Conv2D)        (None, 9, 9, 512)         2359808   \n",
      "_________________________________________________________________\n",
      "block5_conv2 (Conv2D)        (None, 9, 9, 512)         2359808   \n",
      "_________________________________________________________________\n",
      "block5_conv3 (Conv2D)        (None, 9, 9, 512)         2359808   \n",
      "_________________________________________________________________\n",
      "block5_pool (MaxPooling2D)   (None, 4, 4, 512)         0         \n",
      "_________________________________________________________________\n",
      "flatten_1 (Flatten)          (None, 8192)              0         \n",
      "_________________________________________________________________\n",
      "predictions (Dense)          (None, 3)                 24579     \n",
      "=================================================================\n",
      "Total params: 14,739,267\n",
      "Trainable params: 24,579\n",
      "Non-trainable params: 14,714,688\n",
      "_________________________________________________________________\n"
     ]
    }
   ],
   "source": [
    "model.summary()"
   ]
  },
  {
   "cell_type": "code",
   "execution_count": null,
   "metadata": {},
   "outputs": [],
   "source": [
    "import os\n",
    "for root, subdirs, files in os.walk(\"./category_dataset/\"):\n",
    "    for f in files:\n",
    "        r = f.replace(\" \",\"\")\n",
    "        if( r != f):\n",
    "            os.rename(root+\"/\"+f,root+\"/\"+r)\n",
    "            print (f)\n"
   ]
  },
  {
   "cell_type": "code",
   "execution_count": 5,
   "metadata": {},
   "outputs": [
    {
     "name": "stdout",
     "output_type": "stream",
     "text": [
      "Found 289 images belonging to 3 classes.\n"
     ]
    }
   ],
   "source": [
    "# compile the model with a SGD/momentum optimizer\n",
    "# and a very slow learning rate.\n",
    "model.compile(loss='categorical_crossentropy',\n",
    "              optimizer=optimizers.SGD(lr=1e-4, momentum=0.9),\n",
    "              metrics=['accuracy'])\n",
    "\n",
    "# prepare data augmentation configuration\n",
    "train_datagen = ImageDataGenerator(\n",
    "    rescale=1. / 255,\n",
    "    shear_range=0.2,\n",
    "    zoom_range=0.2,\n",
    "    horizontal_flip=True)\n",
    "\n",
    "test_datagen = ImageDataGenerator(rescale=1. / 255)\n"
   ]
  },
  {
   "cell_type": "code",
   "execution_count": 11,
   "metadata": {},
   "outputs": [
    {
     "name": "stdout",
     "output_type": "stream",
     "text": [
      "Found 289 images belonging to 3 classes.\n",
      "HI\n",
      "HI\n",
      "HI\n",
      "HI\n",
      "HI\n",
      "HI\n",
      "HI\n",
      "HI\n",
      "HI\n",
      "HI\n",
      "HI\n",
      "HI\n",
      "HI\n",
      "HI\n",
      "HI\n",
      "HI\n",
      "HI\n",
      "HI\n",
      "HI\n",
      "HI\n",
      "HI\n",
      "HI\n"
     ]
    }
   ],
   "source": [
    "import os\n",
    "error = True\n",
    "while error == True:\n",
    "    error = False\n",
    "    train_generator = train_datagen.flow_from_directory(\n",
    "    train_data_dir,\n",
    "    target_size=(img_height, img_width),\n",
    "    batch_size=batch_size,\n",
    "    class_mode='categorical')\n",
    "    \n",
    "    try:\n",
    "        i = 0\n",
    "        for batch in iter(train_generator):\n",
    "            print(\"HI\")\n",
    "            if i > len(train_generator.filenames)/batch_size + 2:\n",
    "                break\n",
    "            i+=1\n",
    "    except Exception as e:\n",
    "        filename = str(e).split(\"'\")[1]\n",
    "        print (f\"removing {filename}\")\n",
    "        os.remove(filename)\n",
    "        error = True"
   ]
  },
  {
   "cell_type": "code",
   "execution_count": 12,
   "metadata": {},
   "outputs": [
    {
     "name": "stderr",
     "output_type": "stream",
     "text": [
      "/home/amir/Projects/mercari/model_server/venv/lib/python3.6/site-packages/ipykernel_launcher.py:7: UserWarning: The semantics of the Keras 2 argument `steps_per_epoch` is not the same as the Keras 1 argument `samples_per_epoch`. `steps_per_epoch` is the number of batches to draw from the generator at each epoch. Basically steps_per_epoch = samples_per_epoch/batch_size. Similarly `nb_val_samples`->`validation_steps` and `val_samples`->`steps` arguments have changed. Update your method calls accordingly.\n",
      "  import sys\n",
      "/home/amir/Projects/mercari/model_server/venv/lib/python3.6/site-packages/ipykernel_launcher.py:7: UserWarning: Update your `fit_generator` call to the Keras 2 API: `fit_generator(<keras_pre..., epochs=1, validation_data=<keras_pre..., steps_per_epoch=125, validation_steps=800)`\n",
      "  import sys\n"
     ]
    },
    {
     "name": "stdout",
     "output_type": "stream",
     "text": [
      "Epoch 1/1\n",
      "124/125 [============================>.] - ETA: 3s - loss: 0.7601 - acc: 0.6971"
     ]
    },
    {
     "ename": "KeyboardInterrupt",
     "evalue": "",
     "output_type": "error",
     "traceback": [
      "\u001b[0;31m---------------------------------------------------------------------------\u001b[0m",
      "\u001b[0;31mKeyboardInterrupt\u001b[0m                         Traceback (most recent call last)",
      "\u001b[0;32m<ipython-input-12-b16aaaf8ee05>\u001b[0m in \u001b[0;36m<module>\u001b[0;34m\u001b[0m\n\u001b[1;32m      5\u001b[0m     \u001b[0mepochs\u001b[0m\u001b[0;34m=\u001b[0m\u001b[0mepochs\u001b[0m\u001b[0;34m,\u001b[0m\u001b[0;34m\u001b[0m\u001b[0m\n\u001b[1;32m      6\u001b[0m     \u001b[0mvalidation_data\u001b[0m\u001b[0;34m=\u001b[0m\u001b[0mvalidation_generator\u001b[0m\u001b[0;34m,\u001b[0m\u001b[0;34m\u001b[0m\u001b[0m\n\u001b[0;32m----> 7\u001b[0;31m     nb_val_samples=nb_validation_samples)\n\u001b[0m",
      "\u001b[0;32m~/Projects/mercari/model_server/venv/lib/python3.6/site-packages/keras/legacy/interfaces.py\u001b[0m in \u001b[0;36mwrapper\u001b[0;34m(*args, **kwargs)\u001b[0m\n\u001b[1;32m     89\u001b[0m                 warnings.warn('Update your `' + object_name + '` call to the ' +\n\u001b[1;32m     90\u001b[0m                               'Keras 2 API: ' + signature, stacklevel=2)\n\u001b[0;32m---> 91\u001b[0;31m             \u001b[0;32mreturn\u001b[0m \u001b[0mfunc\u001b[0m\u001b[0;34m(\u001b[0m\u001b[0;34m*\u001b[0m\u001b[0margs\u001b[0m\u001b[0;34m,\u001b[0m \u001b[0;34m**\u001b[0m\u001b[0mkwargs\u001b[0m\u001b[0;34m)\u001b[0m\u001b[0;34m\u001b[0m\u001b[0m\n\u001b[0m\u001b[1;32m     92\u001b[0m         \u001b[0mwrapper\u001b[0m\u001b[0;34m.\u001b[0m\u001b[0m_original_function\u001b[0m \u001b[0;34m=\u001b[0m \u001b[0mfunc\u001b[0m\u001b[0;34m\u001b[0m\u001b[0m\n\u001b[1;32m     93\u001b[0m         \u001b[0;32mreturn\u001b[0m \u001b[0mwrapper\u001b[0m\u001b[0;34m\u001b[0m\u001b[0m\n",
      "\u001b[0;32m~/Projects/mercari/model_server/venv/lib/python3.6/site-packages/keras/engine/training.py\u001b[0m in \u001b[0;36mfit_generator\u001b[0;34m(self, generator, steps_per_epoch, epochs, verbose, callbacks, validation_data, validation_steps, class_weight, max_queue_size, workers, use_multiprocessing, shuffle, initial_epoch)\u001b[0m\n\u001b[1;32m   1416\u001b[0m             \u001b[0muse_multiprocessing\u001b[0m\u001b[0;34m=\u001b[0m\u001b[0muse_multiprocessing\u001b[0m\u001b[0;34m,\u001b[0m\u001b[0;34m\u001b[0m\u001b[0m\n\u001b[1;32m   1417\u001b[0m             \u001b[0mshuffle\u001b[0m\u001b[0;34m=\u001b[0m\u001b[0mshuffle\u001b[0m\u001b[0;34m,\u001b[0m\u001b[0;34m\u001b[0m\u001b[0m\n\u001b[0;32m-> 1418\u001b[0;31m             initial_epoch=initial_epoch)\n\u001b[0m\u001b[1;32m   1419\u001b[0m \u001b[0;34m\u001b[0m\u001b[0m\n\u001b[1;32m   1420\u001b[0m     \u001b[0;34m@\u001b[0m\u001b[0minterfaces\u001b[0m\u001b[0;34m.\u001b[0m\u001b[0mlegacy_generator_methods_support\u001b[0m\u001b[0;34m\u001b[0m\u001b[0m\n",
      "\u001b[0;32m~/Projects/mercari/model_server/venv/lib/python3.6/site-packages/keras/engine/training_generator.py\u001b[0m in \u001b[0;36mfit_generator\u001b[0;34m(model, generator, steps_per_epoch, epochs, verbose, callbacks, validation_data, validation_steps, class_weight, max_queue_size, workers, use_multiprocessing, shuffle, initial_epoch)\u001b[0m\n\u001b[1;32m    232\u001b[0m                             \u001b[0mval_enqueuer_gen\u001b[0m\u001b[0;34m,\u001b[0m\u001b[0;34m\u001b[0m\u001b[0m\n\u001b[1;32m    233\u001b[0m                             \u001b[0mvalidation_steps\u001b[0m\u001b[0;34m,\u001b[0m\u001b[0;34m\u001b[0m\u001b[0m\n\u001b[0;32m--> 234\u001b[0;31m                             workers=0)\n\u001b[0m\u001b[1;32m    235\u001b[0m                     \u001b[0;32melse\u001b[0m\u001b[0;34m:\u001b[0m\u001b[0;34m\u001b[0m\u001b[0m\n\u001b[1;32m    236\u001b[0m                         \u001b[0;31m# No need for try/except because\u001b[0m\u001b[0;34m\u001b[0m\u001b[0;34m\u001b[0m\u001b[0m\n",
      "\u001b[0;32m~/Projects/mercari/model_server/venv/lib/python3.6/site-packages/keras/legacy/interfaces.py\u001b[0m in \u001b[0;36mwrapper\u001b[0;34m(*args, **kwargs)\u001b[0m\n\u001b[1;32m     89\u001b[0m                 warnings.warn('Update your `' + object_name + '` call to the ' +\n\u001b[1;32m     90\u001b[0m                               'Keras 2 API: ' + signature, stacklevel=2)\n\u001b[0;32m---> 91\u001b[0;31m             \u001b[0;32mreturn\u001b[0m \u001b[0mfunc\u001b[0m\u001b[0;34m(\u001b[0m\u001b[0;34m*\u001b[0m\u001b[0margs\u001b[0m\u001b[0;34m,\u001b[0m \u001b[0;34m**\u001b[0m\u001b[0mkwargs\u001b[0m\u001b[0;34m)\u001b[0m\u001b[0;34m\u001b[0m\u001b[0m\n\u001b[0m\u001b[1;32m     92\u001b[0m         \u001b[0mwrapper\u001b[0m\u001b[0;34m.\u001b[0m\u001b[0m_original_function\u001b[0m \u001b[0;34m=\u001b[0m \u001b[0mfunc\u001b[0m\u001b[0;34m\u001b[0m\u001b[0m\n\u001b[1;32m     93\u001b[0m         \u001b[0;32mreturn\u001b[0m \u001b[0mwrapper\u001b[0m\u001b[0;34m\u001b[0m\u001b[0m\n",
      "\u001b[0;32m~/Projects/mercari/model_server/venv/lib/python3.6/site-packages/keras/engine/training.py\u001b[0m in \u001b[0;36mevaluate_generator\u001b[0;34m(self, generator, steps, max_queue_size, workers, use_multiprocessing, verbose)\u001b[0m\n\u001b[1;32m   1470\u001b[0m             \u001b[0mworkers\u001b[0m\u001b[0;34m=\u001b[0m\u001b[0mworkers\u001b[0m\u001b[0;34m,\u001b[0m\u001b[0;34m\u001b[0m\u001b[0m\n\u001b[1;32m   1471\u001b[0m             \u001b[0muse_multiprocessing\u001b[0m\u001b[0;34m=\u001b[0m\u001b[0muse_multiprocessing\u001b[0m\u001b[0;34m,\u001b[0m\u001b[0;34m\u001b[0m\u001b[0m\n\u001b[0;32m-> 1472\u001b[0;31m             verbose=verbose)\n\u001b[0m\u001b[1;32m   1473\u001b[0m \u001b[0;34m\u001b[0m\u001b[0m\n\u001b[1;32m   1474\u001b[0m     \u001b[0;34m@\u001b[0m\u001b[0minterfaces\u001b[0m\u001b[0;34m.\u001b[0m\u001b[0mlegacy_generator_methods_support\u001b[0m\u001b[0;34m\u001b[0m\u001b[0m\n",
      "\u001b[0;32m~/Projects/mercari/model_server/venv/lib/python3.6/site-packages/keras/engine/training_generator.py\u001b[0m in \u001b[0;36mevaluate_generator\u001b[0;34m(model, generator, steps, max_queue_size, workers, use_multiprocessing, verbose)\u001b[0m\n\u001b[1;32m    344\u001b[0m                                  \u001b[0;34m'or (x, y). Found: '\u001b[0m \u001b[0;34m+\u001b[0m\u001b[0;34m\u001b[0m\u001b[0m\n\u001b[1;32m    345\u001b[0m                                  str(generator_output))\n\u001b[0;32m--> 346\u001b[0;31m             \u001b[0mouts\u001b[0m \u001b[0;34m=\u001b[0m \u001b[0mmodel\u001b[0m\u001b[0;34m.\u001b[0m\u001b[0mtest_on_batch\u001b[0m\u001b[0;34m(\u001b[0m\u001b[0mx\u001b[0m\u001b[0;34m,\u001b[0m \u001b[0my\u001b[0m\u001b[0;34m,\u001b[0m \u001b[0msample_weight\u001b[0m\u001b[0;34m=\u001b[0m\u001b[0msample_weight\u001b[0m\u001b[0;34m)\u001b[0m\u001b[0;34m\u001b[0m\u001b[0m\n\u001b[0m\u001b[1;32m    347\u001b[0m             \u001b[0mouts\u001b[0m \u001b[0;34m=\u001b[0m \u001b[0mto_list\u001b[0m\u001b[0;34m(\u001b[0m\u001b[0mouts\u001b[0m\u001b[0;34m)\u001b[0m\u001b[0;34m\u001b[0m\u001b[0m\n\u001b[1;32m    348\u001b[0m             \u001b[0mouts_per_batch\u001b[0m\u001b[0;34m.\u001b[0m\u001b[0mappend\u001b[0m\u001b[0;34m(\u001b[0m\u001b[0mouts\u001b[0m\u001b[0;34m)\u001b[0m\u001b[0;34m\u001b[0m\u001b[0m\n",
      "\u001b[0;32m~/Projects/mercari/model_server/venv/lib/python3.6/site-packages/keras/engine/training.py\u001b[0m in \u001b[0;36mtest_on_batch\u001b[0;34m(self, x, y, sample_weight)\u001b[0m\n\u001b[1;32m   1254\u001b[0m             \u001b[0mins\u001b[0m \u001b[0;34m=\u001b[0m \u001b[0mx\u001b[0m \u001b[0;34m+\u001b[0m \u001b[0my\u001b[0m \u001b[0;34m+\u001b[0m \u001b[0msample_weights\u001b[0m\u001b[0;34m\u001b[0m\u001b[0m\n\u001b[1;32m   1255\u001b[0m         \u001b[0mself\u001b[0m\u001b[0;34m.\u001b[0m\u001b[0m_make_test_function\u001b[0m\u001b[0;34m(\u001b[0m\u001b[0;34m)\u001b[0m\u001b[0;34m\u001b[0m\u001b[0m\n\u001b[0;32m-> 1256\u001b[0;31m         \u001b[0moutputs\u001b[0m \u001b[0;34m=\u001b[0m \u001b[0mself\u001b[0m\u001b[0;34m.\u001b[0m\u001b[0mtest_function\u001b[0m\u001b[0;34m(\u001b[0m\u001b[0mins\u001b[0m\u001b[0;34m)\u001b[0m\u001b[0;34m\u001b[0m\u001b[0m\n\u001b[0m\u001b[1;32m   1257\u001b[0m         \u001b[0;32mreturn\u001b[0m \u001b[0munpack_singleton\u001b[0m\u001b[0;34m(\u001b[0m\u001b[0moutputs\u001b[0m\u001b[0;34m)\u001b[0m\u001b[0;34m\u001b[0m\u001b[0m\n\u001b[1;32m   1258\u001b[0m \u001b[0;34m\u001b[0m\u001b[0m\n",
      "\u001b[0;32m~/Projects/mercari/model_server/venv/lib/python3.6/site-packages/keras/backend/tensorflow_backend.py\u001b[0m in \u001b[0;36m__call__\u001b[0;34m(self, inputs)\u001b[0m\n\u001b[1;32m   2713\u001b[0m                 \u001b[0;32mreturn\u001b[0m \u001b[0mself\u001b[0m\u001b[0;34m.\u001b[0m\u001b[0m_legacy_call\u001b[0m\u001b[0;34m(\u001b[0m\u001b[0minputs\u001b[0m\u001b[0;34m)\u001b[0m\u001b[0;34m\u001b[0m\u001b[0m\n\u001b[1;32m   2714\u001b[0m \u001b[0;34m\u001b[0m\u001b[0m\n\u001b[0;32m-> 2715\u001b[0;31m             \u001b[0;32mreturn\u001b[0m \u001b[0mself\u001b[0m\u001b[0;34m.\u001b[0m\u001b[0m_call\u001b[0m\u001b[0;34m(\u001b[0m\u001b[0minputs\u001b[0m\u001b[0;34m)\u001b[0m\u001b[0;34m\u001b[0m\u001b[0m\n\u001b[0m\u001b[1;32m   2716\u001b[0m         \u001b[0;32melse\u001b[0m\u001b[0;34m:\u001b[0m\u001b[0;34m\u001b[0m\u001b[0m\n\u001b[1;32m   2717\u001b[0m             \u001b[0;32mif\u001b[0m \u001b[0mpy_any\u001b[0m\u001b[0;34m(\u001b[0m\u001b[0mis_tensor\u001b[0m\u001b[0;34m(\u001b[0m\u001b[0mx\u001b[0m\u001b[0;34m)\u001b[0m \u001b[0;32mfor\u001b[0m \u001b[0mx\u001b[0m \u001b[0;32min\u001b[0m \u001b[0minputs\u001b[0m\u001b[0;34m)\u001b[0m\u001b[0;34m:\u001b[0m\u001b[0;34m\u001b[0m\u001b[0m\n",
      "\u001b[0;32m~/Projects/mercari/model_server/venv/lib/python3.6/site-packages/keras/backend/tensorflow_backend.py\u001b[0m in \u001b[0;36m_call\u001b[0;34m(self, inputs)\u001b[0m\n\u001b[1;32m   2673\u001b[0m             \u001b[0mfetched\u001b[0m \u001b[0;34m=\u001b[0m \u001b[0mself\u001b[0m\u001b[0;34m.\u001b[0m\u001b[0m_callable_fn\u001b[0m\u001b[0;34m(\u001b[0m\u001b[0;34m*\u001b[0m\u001b[0marray_vals\u001b[0m\u001b[0;34m,\u001b[0m \u001b[0mrun_metadata\u001b[0m\u001b[0;34m=\u001b[0m\u001b[0mself\u001b[0m\u001b[0;34m.\u001b[0m\u001b[0mrun_metadata\u001b[0m\u001b[0;34m)\u001b[0m\u001b[0;34m\u001b[0m\u001b[0m\n\u001b[1;32m   2674\u001b[0m         \u001b[0;32melse\u001b[0m\u001b[0;34m:\u001b[0m\u001b[0;34m\u001b[0m\u001b[0m\n\u001b[0;32m-> 2675\u001b[0;31m             \u001b[0mfetched\u001b[0m \u001b[0;34m=\u001b[0m \u001b[0mself\u001b[0m\u001b[0;34m.\u001b[0m\u001b[0m_callable_fn\u001b[0m\u001b[0;34m(\u001b[0m\u001b[0;34m*\u001b[0m\u001b[0marray_vals\u001b[0m\u001b[0;34m)\u001b[0m\u001b[0;34m\u001b[0m\u001b[0m\n\u001b[0m\u001b[1;32m   2676\u001b[0m         \u001b[0;32mreturn\u001b[0m \u001b[0mfetched\u001b[0m\u001b[0;34m[\u001b[0m\u001b[0;34m:\u001b[0m\u001b[0mlen\u001b[0m\u001b[0;34m(\u001b[0m\u001b[0mself\u001b[0m\u001b[0;34m.\u001b[0m\u001b[0moutputs\u001b[0m\u001b[0;34m)\u001b[0m\u001b[0;34m]\u001b[0m\u001b[0;34m\u001b[0m\u001b[0m\n\u001b[1;32m   2677\u001b[0m \u001b[0;34m\u001b[0m\u001b[0m\n",
      "\u001b[0;32m~/Projects/mercari/model_server/venv/lib/python3.6/site-packages/tensorflow/python/client/session.py\u001b[0m in \u001b[0;36m__call__\u001b[0;34m(self, *args, **kwargs)\u001b[0m\n\u001b[1;32m   1397\u001b[0m           ret = tf_session.TF_SessionRunCallable(\n\u001b[1;32m   1398\u001b[0m               \u001b[0mself\u001b[0m\u001b[0;34m.\u001b[0m\u001b[0m_session\u001b[0m\u001b[0;34m.\u001b[0m\u001b[0m_session\u001b[0m\u001b[0;34m,\u001b[0m \u001b[0mself\u001b[0m\u001b[0;34m.\u001b[0m\u001b[0m_handle\u001b[0m\u001b[0;34m,\u001b[0m \u001b[0margs\u001b[0m\u001b[0;34m,\u001b[0m \u001b[0mstatus\u001b[0m\u001b[0;34m,\u001b[0m\u001b[0;34m\u001b[0m\u001b[0m\n\u001b[0;32m-> 1399\u001b[0;31m               run_metadata_ptr)\n\u001b[0m\u001b[1;32m   1400\u001b[0m         \u001b[0;32mif\u001b[0m \u001b[0mrun_metadata\u001b[0m\u001b[0;34m:\u001b[0m\u001b[0;34m\u001b[0m\u001b[0m\n\u001b[1;32m   1401\u001b[0m           \u001b[0mproto_data\u001b[0m \u001b[0;34m=\u001b[0m \u001b[0mtf_session\u001b[0m\u001b[0;34m.\u001b[0m\u001b[0mTF_GetBuffer\u001b[0m\u001b[0;34m(\u001b[0m\u001b[0mrun_metadata_ptr\u001b[0m\u001b[0;34m)\u001b[0m\u001b[0;34m\u001b[0m\u001b[0m\n",
      "\u001b[0;31mKeyboardInterrupt\u001b[0m: "
     ]
    }
   ],
   "source": [
    "# fine-tune the model\n",
    "model.fit_generator(\n",
    "    train_generator,\n",
    "    samples_per_epoch=nb_train_samples,\n",
    "    epochs=epochs,\n",
    "    nb_val_samples=nb_validation_samples)"
   ]
  },
  {
   "cell_type": "code",
   "execution_count": 24,
   "metadata": {},
   "outputs": [],
   "source": [
    "model.save(\"category.model\")"
   ]
  },
  {
   "cell_type": "code",
   "execution_count": 14,
   "metadata": {},
   "outputs": [
    {
     "data": {
      "text/plain": [
       "3"
      ]
     },
     "execution_count": 14,
     "metadata": {},
     "output_type": "execute_result"
    }
   ],
   "source": [
    "train_generator.num_classes"
   ]
  },
  {
   "cell_type": "code",
   "execution_count": 20,
   "metadata": {},
   "outputs": [
    {
     "data": {
      "text/plain": [
       "{'T-shirt': 0, 'hoodie': 1, 'pants': 2}"
      ]
     },
     "execution_count": 20,
     "metadata": {},
     "output_type": "execute_result"
    }
   ],
   "source": [
    "train_generator.class_indices"
   ]
  },
  {
   "cell_type": "code",
   "execution_count": 22,
   "metadata": {},
   "outputs": [
    {
     "data": {
      "text/plain": [
       "{0: 'T-shirt', 1: 'hoodie', 2: 'pants'}"
      ]
     },
     "execution_count": 22,
     "metadata": {},
     "output_type": "execute_result"
    }
   ],
   "source": [
    "{v:k for k,v in train_generator.class_indices.items()}"
   ]
  },
  {
   "cell_type": "code",
   "execution_count": 23,
   "metadata": {},
   "outputs": [],
   "source": [
    "import pickle"
   ]
  },
  {
   "cell_type": "code",
   "execution_count": null,
   "metadata": {},
   "outputs": [],
   "source": [
    "Model.load_weights()"
   ]
  },
  {
   "cell_type": "code",
   "execution_count": 25,
   "metadata": {},
   "outputs": [],
   "source": [
    "import numpy as np"
   ]
  },
  {
   "cell_type": "code",
   "execution_count": 26,
   "metadata": {},
   "outputs": [
    {
     "data": {
      "text/plain": [
       "2"
      ]
     },
     "execution_count": 26,
     "metadata": {},
     "output_type": "execute_result"
    }
   ],
   "source": [
    "np.argmax([1,3,4])"
   ]
  },
  {
   "cell_type": "code",
   "execution_count": null,
   "metadata": {},
   "outputs": [],
   "source": [
    "pickle.dump()"
   ]
  },
  {
   "cell_type": "code",
   "execution_count": null,
   "metadata": {},
   "outputs": [],
   "source": []
  },
  {
   "cell_type": "code",
   "execution_count": 33,
   "metadata": {},
   "outputs": [
    {
     "name": "stdout",
     "output_type": "stream",
     "text": [
      "15. 15105_federatemodcargo_c_510.jpg\n",
      "28. m-original-mountain-pant-relaxed-fit-organic-ranch.jpg\n",
      "52. pol_pl_spodnie-minimalist-gore-tex-pants-women-31145_2.jpg\n",
      "76. 14700_flightpants_v2_a_510.jpg\n",
      "69. spodnie-black-diamond-helio-active-pants-midnight.jpg\n",
      "97. tiro_17_training_pants_black_bs3693_25_model.jpg\n",
      "12. 52370l_001_f?$dw-product$=.jpg\n",
      "34. m304ghow_rge_1.jpg\n",
      "42. attackpant_bl_fr_1425x1825.jpg\n",
      "73. big_spodnie-w-s-patagonia-crestview-pants-black-2.jpg\n",
      "35. 95016_stn.jpg\n",
      "70. spodnie_tiro17_training_pants_czern_bs3693_22_model.jpg\n",
      "17. 196260081-front-pdp.jpg\n",
      "33. bmc-terra-pants-limited-edition-p696-15369_image.jpg\n",
      "92. m6a262f4a0df6b95a7155eea2f0f38fb4_409991_z_1.jpg\n",
      "79. jay_tunic_valerie_pants_-1-.jpg\n",
      "57. guest_ec69e626-e349-443f-a0cf-49514b162694?wid=488&hei=488&fmt=pjpeg.jpg\n",
      "4. e6687_br5646.jpg\n",
      "13. 71703_brn.jpg\n",
      "66. selby_pants_amarantowe_1_169_pln_4.jpg\n",
      "85. fokhb3hhzp5qvmpjtp0ezc3dihunrns8-34.jpg\n",
      "20. 20tz_16_1905_cornstalk_main.jpg\n",
      "27. goods_03_407868?$prod$.jpg\n",
      "26. 15771_bah.jpg\n",
      "41. dri-fit-mens-training-pants-7l3wqy.jpg\n",
      "90. sportswear-tech-fleece-womens-pants-zwtjdbv0.jpg\n",
      "75. ni121a05i-q11@20.jpg\n",
      "11. c179_447_powl_m_credo_pants_front_web_v2.jpg\n",
      "74. pol_pl_spodnie-plny-lala-navy-pants-1049_6.jpg\n",
      "10. 55055_smdb.jpg\n",
      "44. pull-on-pants-lede.w1200.h630.jpg\n",
      "49. getry-rab-power-stretch-pro-pants-black.jpg\n",
      "67. 5034296-bk000-fallback.jpg\n",
      "54. 7112738_bk_fr.jpg\n",
      "83. 505528613_3_bottomfullfrontqtr?$pdp_flexh$.jpg\n",
      "38. 5646-4.jpg\n",
      "63. hardscrabble-pants-back.jpg\n",
      "48. 1881-_mg_9081_1_.jpg\n",
      "24. 091418_mens_pants_shop_by_fit.jpg\n",
      "88. dp802_sbd_fr.jpg\n",
      "3. 84505_bar.jpg\n",
      "36. 05073469_zi_classic_khaki.jpg\n",
      "87. big_spodnie-m-s-ocun-honk-pants-tyl-2.jpg\n",
      "39. torrid_apex_pants-3__51773.1520261649.jpg\n",
      "16. 116345_blac_1.jpg\n",
      "50. 2018-08_gq_work-pants-dickies_3x2.jpg\n",
      "29. 180213_mens_fit?$jpg12$&scl=1.jpg\n",
      "21. hbna50390966_474_21.jpg\n",
      "82. 2043436_001_main.jpg\n",
      "31. 5054922012110?hei=560&qlt=85&fmt=pjpg&resmode=sharp&op_usm=1.1,0.5,0,0&defaultimage=default_details_george_rd.jpg\n",
      "19. lapg_shrike_tactical_pant.jpg\n",
      "91. pu142e0b4-c11@8.jpg\n",
      "7. dx8l_105_nckl_w_paragon_pants_front_web.jpg\n",
      "5. tiro_17_training_pants_black_bs3685_21_model.jpg\n",
      "80. il_340x270.1417788679_evde.jpg\n",
      "62. spodnie-adidas-zne-strike-pant-bq7002-59a55c17f32d6.jpg\n",
      "64. 00288280-01.jpg\n",
      "32. track_pants_black_ci3593_01_laydown.jpg\n",
      "47. ?$searchgrid$&wid=180&hei=180.jpg\n",
      "51. wide-leg-paperbag-pant-khaki-main-63208~1533605211.jpg\n",
      "94. 22000_blk.jpg\n",
      "59. 670-coyote.jpg\n",
      "65. spodnie.jpg\n",
      "43. 24131_blk.jpg\n",
      "89. 10208420x1037428_zm?$product1000$.jpg\n",
      "56. bottoms-fierce-pants-black-2_2000x.jpg\n",
      "18. flat-front-mens-golf-pants-motbovkl.jpg\n",
      "55. 0731516000016_p81106_156_a.jpg\n",
      "45. fashion_nova_08-07-17-059_1000x.jpg\n",
      "77. pencil-pant-500x500.jpg\n",
      "72. pol_pl_spodnie-g3-combat-3d-pants-aor2-1152213477_1.jpg\n",
      "23. fashion_nova_08-25-17-147_1000x.jpg\n",
      "9. 14705_flinderspants_a_521.jpg\n",
      "96. fh-cool-red-pants.jpg\n",
      "84. fashion_nova_08-07-17-585_1000x.jpg\n",
      "40. 54fcf.jpg\n",
      "78. 92204_brn.jpg\n",
      "14. 04137298_zi_light_beige.jpg\n",
      "1. nf0a2tct_t5c_hero?$638x745$.jpg\n",
      "61. i-amazon-the-north-face-spodnie-damskie-w-exploration-convertible-pants-brazowy.jpg\n",
      "68. cotton-classic-pants-mint.jpg\n",
      "8. 55296_coi.jpg\n",
      "46. _101642863.jpg\n",
      "86. 1512415451103859309.jpg\n",
      "30. 118_881_75.jpg\n",
      "37. 101232_9axdfwas901_prod_1_medkha?wid=460&hei=528&bgcolor=0,0,0,0&op_sharpen=1&resmode=sharp2&fmt=jpg&qlt=85,0.jpg\n",
      "71. 47351903_029_b?$medium$&qlt=80&fit=constrain.jpg\n",
      "22. 5022387-bk000.jpg\n",
      "53. pnt_ww_mondayblues_slim_hero1.jpg\n",
      "81. v5-1306326-001_fc_main?template=v65gridlarge&$wid=281&$hei=345.jpg\n",
      "60. pants_wool-pant_15687-gyr32_2.jpg\n",
      "6. 41260_1440_f?$dw-product$=.jpg\n",
      "93. 35_383_2882_098_01?cache=on&wid=960&fmt=jpeg&qlt=85,1&resmode=sharp2&op_usm=1,1,5,0&defaultimage=photo-coming-soon.jpg\n",
      "95. long-moonpants-gis-13.jpg\n",
      "25. 71hifbdxnfl._sx466_.jpg\n",
      "58. evidn3005012028_q1_2-0._ux357_ql90_.jpg\n",
      "2. fleece-the-jump-pants-1.jpg\n",
      "37. 81vl0zmguzl._ul1500_.jpg\n",
      "4. shirtsofcotton-t-shirt-soc-08-front-1200px.jpg\n",
      "11. lost_in_japan_launching_5.18_b171bbcc-3eb1-40c8-acb7-ddc8a26d06ed_1024x1024.png\n",
      "20. 7eabf41453f260cb5d1bd6afd9280227.jpg\n",
      "24. i250x250-koszulka-polo-z-logo-na-piersi-tommy-hilfiger-176-peek-amp-cloppenburg.jpg\n",
      "56. t-shirt-zona-idealna-ilm.jpg\n",
      "48. catalog_detail_image_large.jpg\n",
      "43. 2a.jpg\n",
      "29. marshmello-mask-half-sleeve-t-shirt-men-s-printed-t-shirts-181065-1521616951.jpg\n",
      "39. 153215_95p.jpg\n",
      "19. 20180823090439_gcaddvvni2hpi28e_1000-1000.jpg\n",
      "27. 500_d3366524-0ee6-4712-a41b-80480bff6d7b_grande.png\n",
      "26. 81gndu7qvml._uy550_.jpg\n",
      "67. 1_39.jpg\n",
      "36. 173690297_abok1.jpg\n",
      "83. lovecraft_poe_shirt.jpg\n",
      "62. c6efb6b02ae22b4a7966297590a3350d.jpg\n",
      "10. t-shirt-meski-moro-sportswear-xsvctk.jpg\n",
      "35. 3212-daddy.png\n",
      "91. full_img_1432379.jpg\n",
      "47. t-shirt-lee-denim-t-white-141_l.jpg\n",
      "34. 2968-t-shirt-bella_2d_0001ps.jpg\n",
      "71. 173690053_main.jpg\n",
      "80. tsrk150_bk_2.jpg\n",
      "87. mag_4545.png\n",
      "45. 41u3ngwaptl._sy445_ql70_.jpg\n",
      "40. 2334-lime1.jpg\n",
      "50. d4z18tsm30020smain.jpg\n",
      "30. c4962677cf35f284fea02747ae8d0bb6.jpg\n",
      "46. xkszskodagadac_tshms_whit_2.jpg\n",
      "69. minta_ts_ss-900.jpg\n",
      "61. t-shirt-damski-fiat-126p.jpg\n",
      "6. 39.jpg\n",
      "94. c87fe6d45ada06b7939ac7c60d4ce583.jpg\n",
      "14. white-t-shirt-500x500.jpg\n",
      "23. main].jpg\n",
      "85. 500_500_productgfx_6ee00c0803addfc577a79f10fd18a77b.jpg\n",
      "25. 1e159cf1c39bcb237c20190ea93ac84f.jpg\n",
      "97. try-this-blue-v-neck-sdl041101545-1-dfb53.jpeg\n",
      "98. 4365433_item_1.jpg\n",
      "88. 87007c2d40eba092b2d70c8d49a7.jpg\n",
      "65. goods_67_410931?$prod$.jpg\n",
      "22. va224g00u-q11@6.1.jpg\n",
      "59. t-shirt-straz.jpg\n",
      "70. t-shirt_bereda_v4_p.jpg\n",
      "75. pol_pl_damska-koszulka-krotki-rekaw-t-shirt-nadruk-instagirl-rozowa-2161_2.jpg\n",
      "64. 500_500_productgfx_c580412f966aa74bd93abe87304ed68d.jpg\n",
      "55. main].jpg\n",
      "76. flyspot-light-t-shirt-lekka-koszulka-sportowa-2.jpg\n",
      "66. men-s-pink-t-shirt-500x500.jpg\n",
      "3. ba4f1d7b4ac8ac3791489e7b6103.jpg\n",
      "90. rozowy-t-shirt-outhorn-z-krotkim-rekawem-w-mlodziezowym-stylu-1085c94b9823ce682272a9f35b9f946d47fac074.jpg\n",
      "15. i250x250-camel-active-t-shirt-w-stylu-slub-yarn-antracyt-f-r-herren-camel-active-4xl-hirmer.jpg\n",
      "60. bhmtee00100-0783_davanti_configurabile_1.jpg\n",
      "41. to184a00h-c11@10.jpg\n",
      "1. to184a00h-c11@9.jpg\n",
      "33. adc6c0604306b4e22baa45483ac0.jpg\n",
      "16. biaa-owersajzowa-sukienka-t-shirt-z-nadrukiem.jpg\n",
      "54. picture114897537731491483597.jpg\n",
      "96. d8ca36c8d9bf663411c4e6e9a6d3e019.jpg\n",
      "86. gucci-tshirt-399838267.jpg\n",
      "31. koszulka-t-shirt-zielona-olive-texar.jpg\n",
      "8. le221d022-a12@20.1.jpg\n",
      "72. shirtsofcotton-t-shirt-soc-03-front-1200px_1_2_1.jpg\n",
      "17. tshirt-shirt-basic-round.png\n",
      "68. eng_pl_i-regret-nothing-t-shirt-2047_2.jpg\n",
      "12. 220px-blue_tshirt.jpg\n",
      "38. ee9474778dc308966a97641658d9af.jpg\n",
      "28. t-shirt-damski-suka.jpg\n",
      "82. t-shirt-meski-gladki-basic-grand-991_3.jpg\n",
      "73. 4094-postac-pink.jpg\n",
      "52. w84i30k6yw0-lmgy?wid=380&fmt=jpeg&qlt=70&op_sharpen=0&op_usm=1.0,1.0,5,0&iccembed=0.jpg\n",
      "95. 51hsp7nhf6l._sx342_ql70_.jpg\n",
      "21. tshirt.jpg\n",
      "57. pol_pl_t-shirt-dragon-ball-z-goku-i-wycinkami-z-mangi-22_5.jpg\n",
      "9. solstice_1.png\n",
      "79. 2d4fb1552ac8a868d0382849b280be52.jpg\n",
      "42. ywnmmthfnda4mjiwx3pfms5qcgc=.jpg\n",
      "84. czarna-sukienka-limited-edition.jpg\n",
      "63. 92936-dress_default.jpg\n",
      "7. catalog_detail_image_large.jpg\n",
      "89. 20161213114114.100769.450.jpg\n",
      "51. pit-crew-t-shirt.jpg\n",
      "93. t-shirt-z-zolto-zielonym-nadrukiem-89360.jpg\n",
      "5. dart-t-shirt-p671-14248_image.jpg\n",
      "58. 1533624005.0121.jpg\n",
      "44. kah-classic-m-oran_1514885835027_grande.png\n",
      "77. pol_pl_t-shirt-chlopiecy-z-nadrukiem-czarny-denley-t3313-65451_1.jpg\n",
      "81. color-t-shirt.jpg\n",
      "49. 316947eeb3b02d13d4e3abee3b9a966f.jpg\n",
      "32. d4z18tsm30027mmain.jpg\n",
      "78. 500_500_productgfx_e461715e2c9f836f8455a57bd7850415.jpg\n",
      "53. nologo-peach-polo-t-shirt.jpg\n",
      "18. animush-t-shirt-musztardowy-absolutnie.jpg\n",
      "2. po224g05f-a11@16.jpg\n",
      "74. unlshd-atm-tshirt-black-01.jpg\n",
      "92. littleman-tshirt-2_1.jpg\n",
      "13. r-155b_apple_al_listing-5.jpg\n"
     ]
    }
   ],
   "source": [
    "import os\n",
    "for root, subdirs, files in os.walk(\"./category_dataset/\"):\n",
    "    for f in files:\n",
    "        print (f)\n",
    "        r = f.replace(\" \",\"\")\n",
    "        if( r != f):\n",
    "            os.rename(root+\"/\"+f,root+\"/\"+r)"
   ]
  },
  {
   "cell_type": "code",
   "execution_count": null,
   "metadata": {},
   "outputs": [],
   "source": []
  }
 ],
 "metadata": {
  "kernelspec": {
   "display_name": "Python 3",
   "language": "python",
   "name": "python3"
  },
  "language_info": {
   "codemirror_mode": {
    "name": "ipython",
    "version": 3
   },
   "file_extension": ".py",
   "mimetype": "text/x-python",
   "name": "python",
   "nbconvert_exporter": "python",
   "pygments_lexer": "ipython3",
   "version": "3.6.6"
  }
 },
 "nbformat": 4,
 "nbformat_minor": 2
}
